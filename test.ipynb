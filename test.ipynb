{
 "cells": [
  {
   "cell_type": "code",
   "execution_count": 1,
   "metadata": {},
   "outputs": [
    {
     "name": "stdout",
     "output_type": "stream",
     "text": [
      "WARNING:tensorflow:From F:\\pythonuserbase\\Python312\\site-packages\\tf_keras\\src\\losses.py:2976: The name tf.losses.sparse_softmax_cross_entropy is deprecated. Please use tf.compat.v1.losses.sparse_softmax_cross_entropy instead.\n",
      "\n"
     ]
    }
   ],
   "source": [
    "import cv2\n",
    "from deepface import DeepFace\n",
    "import os\n",
    "import random\n",
    "import numpy as np\n",
    "import matplotlib.pyplot as plt\n",
    "pairs=500\n",
    "data_path='VGG-Face2/data'"
   ]
  },
  {
   "cell_type": "code",
   "execution_count": 12,
   "metadata": {},
   "outputs": [],
   "source": [
    "def load_image_pairs(image_pairs):\n",
    "    data = []\n",
    "    labels = []\n",
    "    for img1_path, img2_path, label in image_pairs:        \n",
    "        data.append((img1_path, img2_path))\n",
    "        labels.append(label)\n",
    "    return data, labels\n",
    "\n",
    "def create_pairs(data_path,pairs):\n",
    "    positive_pairs = []\n",
    "    negative_pairs = []\n",
    "    testset=os.listdir(data_path)\n",
    "    for person in testset:\n",
    "        path=data_path+\"/\"+person\n",
    "        images=os.listdir(path)\n",
    "        if len(images)<2:\n",
    "            continue\n",
    "        for _ in range(pairs//len(testset)):\n",
    "            img1,img2=random.sample(images,2)\n",
    "            positive_pairs.append((path+\"/\"+img1, path+\"/\"+img2, 1))\n",
    "    for _ in range(pairs):\n",
    "        person1,person2=random.sample(testset, 2)\n",
    "        person1_path = os.path.join(data_path, person1)\n",
    "        person2_path = os.path.join(data_path, person2)\n",
    "        img1=random.choice(os.listdir(person1_path))\n",
    "        img2=random.choice(os.listdir(person2_path))\n",
    "        negative_pairs.append((person1_path+\"/\"+img1, person2_path+\"/\"+img2, 0))\n",
    "    return positive_pairs+negative_pairs\n",
    "\n",
    "def evaluate_model(model_name, X_test, y_test):\n",
    "    predictions = []\n",
    "    for i in range(len(X_test)):\n",
    "        img1_path=X_test[i][0]\n",
    "        img2_path=X_test[i][1]\n",
    "        print(img1_path,img2_path)\n",
    "        try:\n",
    "            result = DeepFace.verify(img1_path, img2_path, model_name=model_name)\n",
    "            predictions.append(int(result['verified']))\n",
    "        except Exception as e:\n",
    "            print(f\"Exception while processing images in DeepFace: {e}\")\n",
    "            predictions.append(0)\n",
    "        \n",
    "    \n",
    "    accuracy = np.mean(np.array(predictions) == y_test)\n",
    "    return accuracy"
   ]
  },
  {
   "cell_type": "code",
   "execution_count": null,
   "metadata": {},
   "outputs": [],
   "source": [
    "random.seed(42)\n",
    "image_pairs=create_pairs(data_path,pairs)\n",
    "print(image_pairs)\n",
    "data,labels=load_image_pairs(image_pairs)\n",
    "model_name=[\"OpenFace\", \"VGG-Face\", \"DeepID\"]\n",
    "a=[]\n",
    "for model in model_name:\n",
    "    accuracy=evaluate_model(model,data,labels)\n",
    "    a.append(accuracy)"
   ]
  },
  {
   "cell_type": "code",
   "execution_count": 32,
   "metadata": {},
   "outputs": [
    {
     "name": "stdout",
     "output_type": "stream",
     "text": [
      "[['OpenFace', 'VGG-Face', 'DeepID'], [0.5655555555555556, 0.8233333333333334, 0.5866666666666667]]\n"
     ]
    }
   ],
   "source": [
    "data_to_save=list((model_name,a))\n",
    "print(data_to_save)\n",
    "with open('seed_42.txt','w') as f:\n",
    "    f.write(str(data_to_save))"
   ]
  }
 ],
 "metadata": {
  "kernelspec": {
   "display_name": "Python 3",
   "language": "python",
   "name": "python3"
  },
  "language_info": {
   "codemirror_mode": {
    "name": "ipython",
    "version": 3
   },
   "file_extension": ".py",
   "mimetype": "text/x-python",
   "name": "python",
   "nbconvert_exporter": "python",
   "pygments_lexer": "ipython3",
   "version": "3.12.3"
  }
 },
 "nbformat": 4,
 "nbformat_minor": 2
}
